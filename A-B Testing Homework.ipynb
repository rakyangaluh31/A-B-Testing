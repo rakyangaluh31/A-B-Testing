{
 "cells": [
  {
   "cell_type": "code",
   "execution_count": 110,
   "id": "cf1b8d43",
   "metadata": {},
   "outputs": [],
   "source": [
    "import pandas as pd\n",
    "import numpy as np\n",
    "import matplotlib as mpl\n",
    "import matplotlib.pyplot as plt\n",
    "import statsmodels.stats.api as sms\n",
    "import scipy.stats as stats\n",
    "import seaborn as sns\n",
    "from math import ceil "
   ]
  },
  {
   "cell_type": "markdown",
   "id": "e4b6bbd8",
   "metadata": {},
   "source": [
    "### Counting sample size\n",
    "\n",
    "First, we would count the sample size needed for A/B Testing. The alpha = 0,2 and the performance rate is expected to increase from 13% into 14%. "
   ]
  },
  {
   "cell_type": "code",
   "execution_count": 20,
   "id": "0957c435",
   "metadata": {},
   "outputs": [
    {
     "name": "stdout",
     "output_type": "stream",
     "text": [
      "10514\n"
     ]
    }
   ],
   "source": [
    "## Calculating effect size based on our expected rates\n",
    "effect_size = sms.proportion_effectsize(0.14,0.13) \n",
    "\n",
    "## Calculating sample size needed\n",
    "required_n = sample_size = sms.NormalIndPower().solve_power(effect_size, power = 0.8, alpha = 0.2, ratio = 1)\n",
    "\n",
    "## Sample size is up-rounded\n",
    "required_n = ceil(required_n)\n",
    "print(required_n)"
   ]
  },
  {
   "cell_type": "markdown",
   "id": "895483f6",
   "metadata": {},
   "source": [
    "We need at least 10.514 observations for each group"
   ]
  },
  {
   "cell_type": "markdown",
   "id": "e77dbed3",
   "metadata": {},
   "source": [
    "### Preparing data\n",
    "\n",
    "1. Download the dataset from Kaggle\n",
    "2. Read the data into a pandas DataFrame\n",
    "3. Check and clean the data as needed\n",
    "4. Randomly sample n=4720 rows from the DataFrame for each group *\n",
    "\n",
    "Step 4 is not necessary but it would be done for the sake of this project."
   ]
  },
  {
   "cell_type": "code",
   "execution_count": 31,
   "id": "765d540a",
   "metadata": {},
   "outputs": [
    {
     "data": {
      "text/html": [
       "<div>\n",
       "<style scoped>\n",
       "    .dataframe tbody tr th:only-of-type {\n",
       "        vertical-align: middle;\n",
       "    }\n",
       "\n",
       "    .dataframe tbody tr th {\n",
       "        vertical-align: top;\n",
       "    }\n",
       "\n",
       "    .dataframe thead th {\n",
       "        text-align: right;\n",
       "    }\n",
       "</style>\n",
       "<table border=\"1\" class=\"dataframe\">\n",
       "  <thead>\n",
       "    <tr style=\"text-align: right;\">\n",
       "      <th></th>\n",
       "      <th>user_id</th>\n",
       "      <th>timestamp</th>\n",
       "      <th>group</th>\n",
       "      <th>landing_page</th>\n",
       "      <th>converted</th>\n",
       "    </tr>\n",
       "  </thead>\n",
       "  <tbody>\n",
       "    <tr>\n",
       "      <th>0</th>\n",
       "      <td>851104</td>\n",
       "      <td>2017-01-21 22:11:48.556739</td>\n",
       "      <td>control</td>\n",
       "      <td>old_page</td>\n",
       "      <td>0</td>\n",
       "    </tr>\n",
       "    <tr>\n",
       "      <th>1</th>\n",
       "      <td>804228</td>\n",
       "      <td>2017-01-12 08:01:45.159739</td>\n",
       "      <td>control</td>\n",
       "      <td>old_page</td>\n",
       "      <td>0</td>\n",
       "    </tr>\n",
       "    <tr>\n",
       "      <th>2</th>\n",
       "      <td>661590</td>\n",
       "      <td>2017-01-11 16:55:06.154213</td>\n",
       "      <td>treatment</td>\n",
       "      <td>new_page</td>\n",
       "      <td>0</td>\n",
       "    </tr>\n",
       "    <tr>\n",
       "      <th>3</th>\n",
       "      <td>853541</td>\n",
       "      <td>2017-01-08 18:28:03.143765</td>\n",
       "      <td>treatment</td>\n",
       "      <td>new_page</td>\n",
       "      <td>0</td>\n",
       "    </tr>\n",
       "    <tr>\n",
       "      <th>4</th>\n",
       "      <td>864975</td>\n",
       "      <td>2017-01-21 01:52:26.210827</td>\n",
       "      <td>control</td>\n",
       "      <td>old_page</td>\n",
       "      <td>1</td>\n",
       "    </tr>\n",
       "    <tr>\n",
       "      <th>...</th>\n",
       "      <td>...</td>\n",
       "      <td>...</td>\n",
       "      <td>...</td>\n",
       "      <td>...</td>\n",
       "      <td>...</td>\n",
       "    </tr>\n",
       "    <tr>\n",
       "      <th>294473</th>\n",
       "      <td>751197</td>\n",
       "      <td>2017-01-03 22:28:38.630509</td>\n",
       "      <td>control</td>\n",
       "      <td>old_page</td>\n",
       "      <td>0</td>\n",
       "    </tr>\n",
       "    <tr>\n",
       "      <th>294474</th>\n",
       "      <td>945152</td>\n",
       "      <td>2017-01-12 00:51:57.078372</td>\n",
       "      <td>control</td>\n",
       "      <td>old_page</td>\n",
       "      <td>0</td>\n",
       "    </tr>\n",
       "    <tr>\n",
       "      <th>294475</th>\n",
       "      <td>734608</td>\n",
       "      <td>2017-01-22 11:45:03.439544</td>\n",
       "      <td>control</td>\n",
       "      <td>old_page</td>\n",
       "      <td>0</td>\n",
       "    </tr>\n",
       "    <tr>\n",
       "      <th>294476</th>\n",
       "      <td>697314</td>\n",
       "      <td>2017-01-15 01:20:28.957438</td>\n",
       "      <td>control</td>\n",
       "      <td>old_page</td>\n",
       "      <td>0</td>\n",
       "    </tr>\n",
       "    <tr>\n",
       "      <th>294477</th>\n",
       "      <td>715931</td>\n",
       "      <td>2017-01-16 12:40:24.467417</td>\n",
       "      <td>treatment</td>\n",
       "      <td>new_page</td>\n",
       "      <td>0</td>\n",
       "    </tr>\n",
       "  </tbody>\n",
       "</table>\n",
       "<p>294478 rows × 5 columns</p>\n",
       "</div>"
      ],
      "text/plain": [
       "        user_id                   timestamp      group landing_page  converted\n",
       "0        851104  2017-01-21 22:11:48.556739    control     old_page          0\n",
       "1        804228  2017-01-12 08:01:45.159739    control     old_page          0\n",
       "2        661590  2017-01-11 16:55:06.154213  treatment     new_page          0\n",
       "3        853541  2017-01-08 18:28:03.143765  treatment     new_page          0\n",
       "4        864975  2017-01-21 01:52:26.210827    control     old_page          1\n",
       "...         ...                         ...        ...          ...        ...\n",
       "294473   751197  2017-01-03 22:28:38.630509    control     old_page          0\n",
       "294474   945152  2017-01-12 00:51:57.078372    control     old_page          0\n",
       "294475   734608  2017-01-22 11:45:03.439544    control     old_page          0\n",
       "294476   697314  2017-01-15 01:20:28.957438    control     old_page          0\n",
       "294477   715931  2017-01-16 12:40:24.467417  treatment     new_page          0\n",
       "\n",
       "[294478 rows x 5 columns]"
      ]
     },
     "execution_count": 31,
     "metadata": {},
     "output_type": "execute_result"
    }
   ],
   "source": [
    "url = 'ab_data.csv'\n",
    "df = pd.read_csv(url)\n",
    "df"
   ]
  },
  {
   "cell_type": "code",
   "execution_count": 39,
   "id": "ba5ec7c5",
   "metadata": {},
   "outputs": [
    {
     "data": {
      "text/plain": [
       "user_id                  int64\n",
       "timestamp       datetime64[ns]\n",
       "group                   object\n",
       "landing_page            object\n",
       "converted                int64\n",
       "dtype: object"
      ]
     },
     "execution_count": 39,
     "metadata": {},
     "output_type": "execute_result"
    }
   ],
   "source": [
    "#check the datatypes\n",
    "df.dtypes\n",
    "\n",
    "#turn timestamp into datetime\n",
    "df['timestamp'] = pd.to_datetime(df['timestamp'])\n",
    "df.dtypes"
   ]
  },
  {
   "cell_type": "code",
   "execution_count": 46,
   "id": "00696a04",
   "metadata": {},
   "outputs": [
    {
     "data": {
      "text/html": [
       "<div>\n",
       "<style scoped>\n",
       "    .dataframe tbody tr th:only-of-type {\n",
       "        vertical-align: middle;\n",
       "    }\n",
       "\n",
       "    .dataframe tbody tr th {\n",
       "        vertical-align: top;\n",
       "    }\n",
       "\n",
       "    .dataframe thead th {\n",
       "        text-align: right;\n",
       "    }\n",
       "</style>\n",
       "<table border=\"1\" class=\"dataframe\">\n",
       "  <thead>\n",
       "    <tr style=\"text-align: right;\">\n",
       "      <th>landing_page</th>\n",
       "      <th>new_page</th>\n",
       "      <th>old_page</th>\n",
       "    </tr>\n",
       "    <tr>\n",
       "      <th>group</th>\n",
       "      <th></th>\n",
       "      <th></th>\n",
       "    </tr>\n",
       "  </thead>\n",
       "  <tbody>\n",
       "    <tr>\n",
       "      <th>control</th>\n",
       "      <td>1928</td>\n",
       "      <td>145274</td>\n",
       "    </tr>\n",
       "    <tr>\n",
       "      <th>treatment</th>\n",
       "      <td>145311</td>\n",
       "      <td>1965</td>\n",
       "    </tr>\n",
       "  </tbody>\n",
       "</table>\n",
       "</div>"
      ],
      "text/plain": [
       "landing_page  new_page  old_page\n",
       "group                           \n",
       "control           1928    145274\n",
       "treatment       145311      1965"
      ]
     },
     "execution_count": 46,
     "metadata": {},
     "output_type": "execute_result"
    }
   ],
   "source": [
    "#check the count of 2 groups who see new_page and land_page\n",
    "pd.crosstab(df['group'],df['landing_page'])"
   ]
  },
  {
   "cell_type": "markdown",
   "id": "db8b3cba",
   "metadata": {},
   "source": [
    "### Check multiple users"
   ]
  },
  {
   "cell_type": "code",
   "execution_count": 49,
   "id": "7af46519",
   "metadata": {},
   "outputs": [
    {
     "name": "stdout",
     "output_type": "stream",
     "text": [
      "there are 3894 people that appear multiple times in dataset\n"
     ]
    }
   ],
   "source": [
    "#count the occurence of each user_id\n",
    "session_count = df['user_id'].value_counts()\n",
    "\n",
    "#if user_id appears > 1, put it in the list of multiple users\n",
    "multi_users = session_count[session_count > 1].count()\n",
    "\n",
    "#print\n",
    "print(f'there are {multi_users} people that appear multiple times in dataset')"
   ]
  },
  {
   "cell_type": "markdown",
   "id": "6e819257",
   "metadata": {},
   "source": [
    "### Delete multiple users"
   ]
  },
  {
   "cell_type": "code",
   "execution_count": 68,
   "id": "784dbfc0",
   "metadata": {},
   "outputs": [
    {
     "name": "stdout",
     "output_type": "stream",
     "text": [
      "The updated dataset now has 294478 entries\n"
     ]
    }
   ],
   "source": [
    "users_to_drop = session_count[session_count > 1].index\n",
    "\n",
    "#membuat dataframe baru dengan menghapus user yang double\n",
    "df_new = df[~df['user_id'].isin(users_to_drop)]\n",
    "\n",
    "print(f'The updated dataset now has {df.shape[0]} entries')"
   ]
  },
  {
   "cell_type": "markdown",
   "id": "d5450bb3",
   "metadata": {},
   "source": [
    "### Sampling\n",
    "\n",
    "Now that our DataFrame is nice and clean, we can proceed and sample n=10.514 entries for each of the groups. We can use pandas' DataFrame.sample() method to do this, which will perform Simple Random Sampling for us. \n",
    "\n",
    "Note: Set random_state = 22 so that the results are reproducible"
   ]
  },
  {
   "cell_type": "code",
   "execution_count": 86,
   "id": "5cb437b9",
   "metadata": {},
   "outputs": [
    {
     "data": {
      "text/html": [
       "<div>\n",
       "<style scoped>\n",
       "    .dataframe tbody tr th:only-of-type {\n",
       "        vertical-align: middle;\n",
       "    }\n",
       "\n",
       "    .dataframe tbody tr th {\n",
       "        vertical-align: top;\n",
       "    }\n",
       "\n",
       "    .dataframe thead th {\n",
       "        text-align: right;\n",
       "    }\n",
       "</style>\n",
       "<table border=\"1\" class=\"dataframe\">\n",
       "  <thead>\n",
       "    <tr style=\"text-align: right;\">\n",
       "      <th></th>\n",
       "      <th>user_id</th>\n",
       "      <th>timestamp</th>\n",
       "      <th>group</th>\n",
       "      <th>landing_page</th>\n",
       "      <th>converted</th>\n",
       "    </tr>\n",
       "  </thead>\n",
       "  <tbody>\n",
       "    <tr>\n",
       "      <th>0</th>\n",
       "      <td>644179</td>\n",
       "      <td>2017-01-16 04:15:36.663685</td>\n",
       "      <td>control</td>\n",
       "      <td>old_page</td>\n",
       "      <td>0</td>\n",
       "    </tr>\n",
       "    <tr>\n",
       "      <th>1</th>\n",
       "      <td>729672</td>\n",
       "      <td>2017-01-20 19:04:10.409185</td>\n",
       "      <td>control</td>\n",
       "      <td>old_page</td>\n",
       "      <td>0</td>\n",
       "    </tr>\n",
       "    <tr>\n",
       "      <th>2</th>\n",
       "      <td>866186</td>\n",
       "      <td>2017-01-09 02:56:47.675707</td>\n",
       "      <td>control</td>\n",
       "      <td>old_page</td>\n",
       "      <td>0</td>\n",
       "    </tr>\n",
       "    <tr>\n",
       "      <th>3</th>\n",
       "      <td>884303</td>\n",
       "      <td>2017-01-18 04:49:04.225284</td>\n",
       "      <td>control</td>\n",
       "      <td>old_page</td>\n",
       "      <td>0</td>\n",
       "    </tr>\n",
       "    <tr>\n",
       "      <th>4</th>\n",
       "      <td>882576</td>\n",
       "      <td>2017-01-15 13:36:49.854723</td>\n",
       "      <td>control</td>\n",
       "      <td>old_page</td>\n",
       "      <td>0</td>\n",
       "    </tr>\n",
       "    <tr>\n",
       "      <th>...</th>\n",
       "      <td>...</td>\n",
       "      <td>...</td>\n",
       "      <td>...</td>\n",
       "      <td>...</td>\n",
       "      <td>...</td>\n",
       "    </tr>\n",
       "    <tr>\n",
       "      <th>21023</th>\n",
       "      <td>732045</td>\n",
       "      <td>2017-01-16 03:21:52.008259</td>\n",
       "      <td>treatment</td>\n",
       "      <td>new_page</td>\n",
       "      <td>0</td>\n",
       "    </tr>\n",
       "    <tr>\n",
       "      <th>21024</th>\n",
       "      <td>865191</td>\n",
       "      <td>2017-01-23 07:32:45.913986</td>\n",
       "      <td>treatment</td>\n",
       "      <td>new_page</td>\n",
       "      <td>0</td>\n",
       "    </tr>\n",
       "    <tr>\n",
       "      <th>21025</th>\n",
       "      <td>739004</td>\n",
       "      <td>2017-01-24 02:53:27.777595</td>\n",
       "      <td>treatment</td>\n",
       "      <td>new_page</td>\n",
       "      <td>0</td>\n",
       "    </tr>\n",
       "    <tr>\n",
       "      <th>21026</th>\n",
       "      <td>689953</td>\n",
       "      <td>2017-01-07 18:33:05.067482</td>\n",
       "      <td>treatment</td>\n",
       "      <td>new_page</td>\n",
       "      <td>0</td>\n",
       "    </tr>\n",
       "    <tr>\n",
       "      <th>21027</th>\n",
       "      <td>829426</td>\n",
       "      <td>2017-01-11 11:34:14.890261</td>\n",
       "      <td>treatment</td>\n",
       "      <td>new_page</td>\n",
       "      <td>0</td>\n",
       "    </tr>\n",
       "  </tbody>\n",
       "</table>\n",
       "<p>21028 rows × 5 columns</p>\n",
       "</div>"
      ],
      "text/plain": [
       "       user_id                  timestamp      group landing_page  converted\n",
       "0       644179 2017-01-16 04:15:36.663685    control     old_page          0\n",
       "1       729672 2017-01-20 19:04:10.409185    control     old_page          0\n",
       "2       866186 2017-01-09 02:56:47.675707    control     old_page          0\n",
       "3       884303 2017-01-18 04:49:04.225284    control     old_page          0\n",
       "4       882576 2017-01-15 13:36:49.854723    control     old_page          0\n",
       "...        ...                        ...        ...          ...        ...\n",
       "21023   732045 2017-01-16 03:21:52.008259  treatment     new_page          0\n",
       "21024   865191 2017-01-23 07:32:45.913986  treatment     new_page          0\n",
       "21025   739004 2017-01-24 02:53:27.777595  treatment     new_page          0\n",
       "21026   689953 2017-01-07 18:33:05.067482  treatment     new_page          0\n",
       "21027   829426 2017-01-11 11:34:14.890261  treatment     new_page          0\n",
       "\n",
       "[21028 rows x 5 columns]"
      ]
     },
     "execution_count": 86,
     "metadata": {},
     "output_type": "execute_result"
    }
   ],
   "source": [
    "control_sample = df[df['group'] == 'control'].sample(n=required_n, random_state=22)\n",
    "treatment_sample = df[df['group'] == 'treatment'].sample(n=required_n, random_state=22)\n",
    "\n",
    "#gabungkan control_sample dan treatment_sample\n",
    "ab_test = pd.concat([control_sample, treatment_sample], axis=0)\n",
    "ab_test.reset_index(drop=True, inplace=True)\n",
    "ab_test"
   ]
  },
  {
   "cell_type": "code",
   "execution_count": 88,
   "id": "ccecb0db",
   "metadata": {},
   "outputs": [
    {
     "name": "stdout",
     "output_type": "stream",
     "text": [
      "<class 'pandas.core.frame.DataFrame'>\n",
      "RangeIndex: 21028 entries, 0 to 21027\n",
      "Data columns (total 5 columns):\n",
      " #   Column        Non-Null Count  Dtype         \n",
      "---  ------        --------------  -----         \n",
      " 0   user_id       21028 non-null  int64         \n",
      " 1   timestamp     21028 non-null  datetime64[ns]\n",
      " 2   group         21028 non-null  object        \n",
      " 3   landing_page  21028 non-null  object        \n",
      " 4   converted     21028 non-null  int64         \n",
      "dtypes: datetime64[ns](1), int64(2), object(2)\n",
      "memory usage: 821.5+ KB\n"
     ]
    }
   ],
   "source": [
    "ab_test.info()"
   ]
  },
  {
   "cell_type": "code",
   "execution_count": 90,
   "id": "049925cc",
   "metadata": {},
   "outputs": [
    {
     "data": {
      "text/plain": [
       "control      10514\n",
       "treatment    10514\n",
       "Name: group, dtype: int64"
      ]
     },
     "execution_count": 90,
     "metadata": {},
     "output_type": "execute_result"
    }
   ],
   "source": [
    "ab_test['group'].value_counts()"
   ]
  },
  {
   "cell_type": "markdown",
   "id": "cff22e0f",
   "metadata": {},
   "source": [
    "### Visualizing the Results\n",
    "\n",
    "Do some basic statistic to get an idea of the samples we have"
   ]
  },
  {
   "cell_type": "code",
   "execution_count": 100,
   "id": "38467d52",
   "metadata": {},
   "outputs": [],
   "source": [
    "conversion_rate = ab_test.groupby('group')['converted']"
   ]
  },
  {
   "cell_type": "code",
   "execution_count": 98,
   "id": "f5207593",
   "metadata": {},
   "outputs": [],
   "source": [
    "# make anon function of standar deviation (std_p) and standard error of the mean (se_p)\n",
    "std_p = lambda x: np.std(x)\n",
    "se_p = lambda x: stats.sem(x)"
   ]
  },
  {
   "cell_type": "code",
   "execution_count": 103,
   "id": "35daffb5",
   "metadata": {},
   "outputs": [],
   "source": [
    "a = conversion_rate.agg([np.mean,std_p,se_p])"
   ]
  },
  {
   "cell_type": "code",
   "execution_count": 105,
   "id": "35a0cbef",
   "metadata": {},
   "outputs": [
    {
     "data": {
      "text/html": [
       "<div>\n",
       "<style scoped>\n",
       "    .dataframe tbody tr th:only-of-type {\n",
       "        vertical-align: middle;\n",
       "    }\n",
       "\n",
       "    .dataframe tbody tr th {\n",
       "        vertical-align: top;\n",
       "    }\n",
       "\n",
       "    .dataframe thead th {\n",
       "        text-align: right;\n",
       "    }\n",
       "</style>\n",
       "<table border=\"1\" class=\"dataframe\">\n",
       "  <thead>\n",
       "    <tr style=\"text-align: right;\">\n",
       "      <th></th>\n",
       "      <th>conversion rate</th>\n",
       "      <th>standard deviation</th>\n",
       "      <th>standard error</th>\n",
       "    </tr>\n",
       "    <tr>\n",
       "      <th>group</th>\n",
       "      <th></th>\n",
       "      <th></th>\n",
       "      <th></th>\n",
       "    </tr>\n",
       "  </thead>\n",
       "  <tbody>\n",
       "    <tr>\n",
       "      <th>control</th>\n",
       "      <td>0.121172</td>\n",
       "      <td>0.326327</td>\n",
       "      <td>0.003183</td>\n",
       "    </tr>\n",
       "    <tr>\n",
       "      <th>treatment</th>\n",
       "      <td>0.118604</td>\n",
       "      <td>0.323322</td>\n",
       "      <td>0.003153</td>\n",
       "    </tr>\n",
       "  </tbody>\n",
       "</table>\n",
       "</div>"
      ],
      "text/plain": [
       "           conversion rate  standard deviation  standard error\n",
       "group                                                         \n",
       "control           0.121172            0.326327        0.003183\n",
       "treatment         0.118604            0.323322        0.003153"
      ]
     },
     "execution_count": 105,
     "metadata": {},
     "output_type": "execute_result"
    }
   ],
   "source": [
    "# change the column name\n",
    "a.columns = ['conversion rate','standard deviation','standard error']\n",
    "a"
   ]
  },
  {
   "cell_type": "markdown",
   "id": "df1ab794",
   "metadata": {},
   "source": [
    "Turned out the two designs performed very similarly, with the old design performing slightly better, approx. 12.11% vs. 11.86% conversion rate.\n",
    "\n",
    "Now we could plot the groups"
   ]
  },
  {
   "cell_type": "code",
   "execution_count": 122,
   "id": "620ee4b4",
   "metadata": {},
   "outputs": [
    {
     "data": {
      "image/png": "[encoded data removed]",
      "text/plain": [
       "<Figure size 432x288 with 1 Axes>"
      ]
     },
     "metadata": {
      "needs_background": "light"
     },
     "output_type": "display_data"
    }
   ],
   "source": [
    "sns.barplot(x=ab_test['group'],y=ab_test['converted'], ci=False)\n",
    "\n",
    "plt.ylim(0, 0.17)\n",
    "plt.title('Conversion rate by group', pad=20)\n",
    "plt.xlabel('Group',labelpad=15)\n",
    "plt.ylabel('Converted (proprotion)', labelpad=15);"
   ]
  },
  {
   "cell_type": "markdown",
   "id": "c7fcdf95",
   "metadata": {},
   "source": [
    "So... the control group's value is higher. Is the difference statistically significant?"
   ]
  },
  {
   "cell_type": "markdown",
   "id": "a1f96ec7",
   "metadata": {},
   "source": [
    "### Testing Hypothesis\n",
    "The last step of our analysis is testing our hypothesis. Since we have a very large sample, we can use the normal approximation for calculating our p-value (i.e. z-test).\n",
    "\n",
    "Again, Python makes all the calculations very easy. We can use the statsmodels.stats.proportion module to get the p-value and confidence intervals:"
   ]
  },
  {
   "cell_type": "code",
   "execution_count": 125,
   "id": "95594be4",
   "metadata": {},
   "outputs": [],
   "source": [
    "from statsmodels.stats.proportion import proportions_ztest, proportion_confint"
   ]
  },
  {
   "cell_type": "code",
   "execution_count": 132,
   "id": "a05a13c0",
   "metadata": {},
   "outputs": [],
   "source": [
    "control_results = ab_test[ab_test['group'] == 'control']['converted']\n",
    "treatment_results = ab_test[ab_test['group'] == 'treatment']['converted']"
   ]
  },
  {
   "cell_type": "code",
   "execution_count": 138,
   "id": "00d9cc58",
   "metadata": {},
   "outputs": [],
   "source": [
    "n_con = control_results.count()\n",
    "n_treat = treatment_results.count()\n",
    "success = [control_results.sum(),treatment_results.sum()]   #jumlah pembeli dari tiap group\n",
    "nobs = [n_con, n_treat]                                     #the number of trials or observations, with the same length as count."
   ]
  },
  {
   "cell_type": "markdown",
   "id": "6fa2ce05",
   "metadata": {},
   "source": [
    "#### Hitung z_stat dan p-value"
   ]
  },
  {
   "cell_type": "code",
   "execution_count": 146,
   "id": "b4e7d407",
   "metadata": {},
   "outputs": [
    {
     "data": {
      "text/plain": [
       "(0.573202812968297, 0.5665073799813036)"
      ]
     },
     "execution_count": 146,
     "metadata": {},
     "output_type": "execute_result"
    }
   ],
   "source": [
    "#statsmodels.stats.proportion.proportions_ztest(count, nobs, value=None, alternative='two-sided', prop_var=False)\n",
    "#output is test statistic for the z-test (z_stat) and p-value for the z-test (p_value)\n",
    "\n",
    "z_stat, p_value = proportions_ztest(success, nobs)\n",
    "z_stat, p_value"
   ]
  },
  {
   "cell_type": "markdown",
   "id": "fd0c7957",
   "metadata": {},
   "source": [
    "#### Hitung confidence interval for a binomial proportion"
   ]
  },
  {
   "cell_type": "code",
   "execution_count": 145,
   "id": "b21dca1d",
   "metadata": {},
   "outputs": [
    {
     "data": {
      "text/plain": [
       "((0.1149341808765732, 0.11242361748596227),\n",
       " (0.12740936106750136, 0.12478391532742938))"
      ]
     },
     "execution_count": 145,
     "metadata": {},
     "output_type": "execute_result"
    }
   ],
   "source": [
    "#statsmodels.stats.proportion.proportion_confint(count, nobs, alpha=0.05, method='normal')\n",
    "\n",
    "(lower_con, lower_treat), (upper_con, upper_treat) = proportion_confint(success, nobs, alpha = 0.05)\n",
    "(lower_con, lower_treat), (upper_con, upper_treat)"
   ]
  },
  {
   "cell_type": "code",
   "execution_count": 158,
   "id": "56de6fc3",
   "metadata": {},
   "outputs": [
    {
     "name": "stdout",
     "output_type": "stream",
     "text": [
      "z statistic: 0.573\n",
      "p value: 0.567\n",
      "ci 95% of control group: [0.115,0.127]\n",
      "ci 95% of treatment group: [0.112,0.125]\n"
     ]
    }
   ],
   "source": [
    "print(f'z statistic: {z_stat:.3f}')\n",
    "print(f'p value: {p_value:.3f}')\n",
    "print(f'ci 95% of control group: [{lower_con:.3f},{upper_con:.3f}]')\n",
    "print(f'ci 95% of treatment group: [{lower_treat:.3f},{upper_treat:.3f}]')"
   ]
  },
  {
   "cell_type": "markdown",
   "id": "be8723e7",
   "metadata": {},
   "source": [
    "### Drawing Conclusion\n",
    "\n",
    "Since our p-value=0.567 is way above our alpha=0.2, we cannot reject the null hypothesis , which means that our new design did not perform significantly different (let alone better) than our old one :(\n",
    "\n",
    "Additionally, if we look at the confidence interval for the treatment group ([0.112, 0.125], i.e. 11.2%-12.5%) we notice that:\n",
    "\n",
    "It does not include our baseline value of 13% conversion rate\n",
    "It does not include our target value of 14% (the 2% uplift we were aiming for)\n",
    "\n",
    "What this means is that it is more likely that the true conversion rate of the new design is similar (even slightly lower) to our baseline, rather than the 14% target we had hoped for. This is further proof that our new design is not likely to be an improvement on our old design, and that unfortunately we are back to the drawing board!"
   ]
  },
  {
   "cell_type": "code",
   "execution_count": null,
   "id": "10d224ba",
   "metadata": {},
   "outputs": [],
   "source": []
  }
 ],
 "metadata": {
  "kernelspec": {
   "display_name": "Python 3",
   "language": "python",
   "name": "python3"
  },
  "language_info": {
   "codemirror_mode": {
    "name": "ipython",
    "version": 3
   },
   "file_extension": ".py",
   "mimetype": "text/x-python",
   "name": "python",
   "nbconvert_exporter": "python",
   "pygments_lexer": "ipython3",
   "version": "3.8.8"
  }
 },
 "nbformat": 4,
 "nbformat_minor": 5
}
